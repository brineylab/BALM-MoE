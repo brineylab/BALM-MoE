{
 "cells": [
  {
   "cell_type": "code",
   "execution_count": 1,
   "id": "13975af6-d64d-4e60-b405-d2e97add53fb",
   "metadata": {
    "tags": []
   },
   "outputs": [],
   "source": [
    "from collections import Counter\n",
    "\n",
    "import pandas as pd\n",
    "import polars as pl\n",
    "\n",
    "import abutils\n",
    "import abstar"
   ]
  },
  {
   "cell_type": "markdown",
   "id": "e4a29e52-6805-4894-84fc-8f3d0e8be12b",
   "metadata": {},
   "source": [
    "Import and Align SARS-CoV2 mAbs "
   ]
  },
  {
   "cell_type": "code",
   "execution_count": 2,
   "id": "9df50bf6-8df0-467b-9c3a-c9a0dabeb29e",
   "metadata": {
    "tags": []
   },
   "outputs": [],
   "source": [
    "df = pd.read_csv('../TXG-20220218.csv')"
   ]
  },
  {
   "cell_type": "code",
   "execution_count": 3,
   "id": "e75943bc-369a-4a25-bdea-b823bf3665b6",
   "metadata": {
    "tags": []
   },
   "outputs": [],
   "source": [
    "txg_df = df[df[\"Identifier\"].str.startswith(\"TXG\")]\n",
    "heavies = [abutils.Sequence(s, id=i) for s, i in zip(txg_df[\"vj_seq1\"], txg_df[\"Identifier\"])]\n",
    "lights = [abutils.Sequence(s, id=i) for s, i in zip(txg_df[\"vj_seq2\"], txg_df[\"Identifier\"])]"
   ]
  },
  {
   "cell_type": "code",
   "execution_count": 4,
   "id": "87cef150-bf46-4860-b777-1142b96d95ca",
   "metadata": {
    "tags": []
   },
   "outputs": [
    {
     "name": "stdout",
     "output_type": "stream",
     "text": [
      "\n",
      "Running abstar...\n",
      "(1/1) ||||||||||||||||||||||||||||||||||||||||||||||||||||  100%\n",
      "\n",
      "478 sequences contained an identifiable rearrangement\n",
      "abstar completed in 10.86 seconds\n",
      "\n"
     ]
    }
   ],
   "source": [
    "seqs = abstar.run(heavies + lights, output_type=\"airr\")\n",
    "pairs = abutils.core.pair.assign_pairs(seqs)"
   ]
  },
  {
   "cell_type": "code",
   "execution_count": 5,
   "id": "4eab0ddd-1521-4ec2-ba1e-58601c0d9961",
   "metadata": {
    "tags": []
   },
   "outputs": [],
   "source": [
    "counterh = Counter([p.heavy[\"sequence_aa\"] for p in pairs])\n",
    "counterl = Counter([p.light[\"sequence_aa\"] for p in pairs])\n",
    "\n",
    "seq_aa_l = []\n",
    "germ_aa_l = []\n",
    "\n",
    "h_alignments = []\n",
    "l_alignments = []\n",
    "\n",
    "for p in pairs:\n",
    "    hgerm_aa = abutils.tl.translate(p.heavy[\"germline_alignment\"])\n",
    "    hseq_aa = abutils.tl.translate(p.heavy[\"sequence_alignment\"])\n",
    "    \n",
    "    lgerm_aa = abutils.tl.translate(p.light[\"germline_alignment\"])\n",
    "    lseq_aa = abutils.tl.translate(p.light[\"sequence_alignment\"])\n",
    "    \n",
    "    germ_aa = f'{hgerm_aa}<cls><cls>{lgerm_aa}'\n",
    "    germ_aa_l.append(germ_aa)\n",
    "    \n",
    "    seq_aa = f'{hseq_aa}<cls><cls>{lseq_aa}'\n",
    "    if seq_aa not in seq_aa_l:\n",
    "        haln = abutils.tl.global_alignment(hseq_aa, hgerm_aa, gap_open=25)\n",
    "        h_alignments.append(haln)\n",
    "        \n",
    "        laln = abutils.tl.global_alignment(lseq_aa, lgerm_aa, gap_open=25)\n",
    "        l_alignments.append(laln)\n",
    "        seq_aa_l.append(seq_aa)"
   ]
  },
  {
   "cell_type": "markdown",
   "id": "f6e7100d-a5fa-4482-bdba-87a51a868d60",
   "metadata": {},
   "source": [
    "Retrieve Scores from Balm"
   ]
  },
  {
   "cell_type": "code",
   "execution_count": 6,
   "id": "688eeb4d-1c4e-40c6-b240-c5e615212690",
   "metadata": {
    "tags": []
   },
   "outputs": [],
   "source": [
    "from datetime import date\n",
    "import os\n",
    "from tqdm.notebook import tqdm\n",
    "import torch\n",
    "\n",
    "from transformers import ( #for BALM\n",
    "    RobertaConfig,\n",
    "    RobertaTokenizer,\n",
    "    RobertaForMaskedLM,\n",
    "    DataCollatorForLanguageModeling,\n",
    "    AutoTokenizer,\n",
    "    AutoModelForMaskedLM\n",
    ")\n",
    "\n",
    "from Bio import SeqIO\n",
    "import re"
   ]
  },
  {
   "cell_type": "code",
   "execution_count": 7,
   "id": "feaaeedc-bf1e-41ff-8f5a-7b46d543eadf",
   "metadata": {
    "tags": []
   },
   "outputs": [],
   "source": [
    "model = AutoModelForMaskedLM.from_pretrained(\n",
    "    '/models/BALM-paired_LC-coherence_90-5-5-split_122222/'\n",
    ").to('cuda')"
   ]
  },
  {
   "cell_type": "code",
   "execution_count": 8,
   "id": "d22ea41d-62e7-4f3c-91bb-0839dceed83a",
   "metadata": {
    "tags": []
   },
   "outputs": [],
   "source": [
    "seqs = germ_aa_l\n",
    "seqs = [s.replace('*', '.') for s in seqs]\n",
    "seq_names = [p.heavy.annotations['sequence_id'] for p in pairs]"
   ]
  },
  {
   "cell_type": "code",
   "execution_count": 9,
   "id": "9964dc89-910b-4c7c-9936-ff659f3d0f70",
   "metadata": {
    "tags": []
   },
   "outputs": [],
   "source": [
    "tokenizer = RobertaTokenizer.from_pretrained(\"/pre-training/balm/tokenizer\")\n",
    "vocab = tokenizer.get_vocab()"
   ]
  },
  {
   "cell_type": "code",
   "execution_count": 10,
   "id": "5181ca15-428d-4a4d-b53f-55e986d09441",
   "metadata": {
    "tags": []
   },
   "outputs": [
    {
     "data": {
      "application/vnd.jupyter.widget-view+json": {
       "model_id": "b9826688f844418290abe88ef4ab58c4",
       "version_major": 2,
       "version_minor": 0
      },
      "text/plain": [
       "  0%|          | 0/239 [00:00<?, ?it/s]"
      ]
     },
     "metadata": {},
     "output_type": "display_data"
    }
   ],
   "source": [
    "masked_seqs = []\n",
    "masked_seqs_tok = []\n",
    "masked_seq_ids = []\n",
    "for s in tqdm(range(len(seqs))):\n",
    "    seq = seqs[s]\n",
    "    seq_id = seq_names[s]\n",
    "    for aa in range(len(seq)):\n",
    "        #print(seq)\n",
    "        if (seq[aa] != '<') or (seq[aa] != '>') or (seq[aa] != 'l') or (seq[aa] != 'c') or (seq[aa] != 's'):\n",
    "            masked_seq = seq[:aa] + '<mask>' + seq[aa+1:]\n",
    "            masked_seqs.append(masked_seq)\n",
    "            masked_seqs_tok.append(tokenizer(masked_seq, return_tensors='pt', max_length = 512, padding = 'max_length').to('cuda'))\n",
    "            masked_seq_ids.append(seq_id)\n",
    "        else:\n",
    "            print(seq[aa])\n",
    "    \n",
    "# finalize inputs\n",
    "inputs = list(zip(masked_seq_ids, masked_seqs, masked_seqs_tok))"
   ]
  },
  {
   "cell_type": "code",
   "execution_count": 11,
   "id": "0ada3db2-0f4c-44a2-899d-d8786b843aea",
   "metadata": {
    "tags": []
   },
   "outputs": [
    {
     "data": {
      "application/vnd.jupyter.widget-view+json": {
       "model_id": "488549c9ac844748858ae4a229e76a8f",
       "version_major": 2,
       "version_minor": 0
      },
      "text/plain": [
       "  0%|          | 0/57619 [00:00<?, ?it/s]"
      ]
     },
     "metadata": {},
     "output_type": "display_data"
    }
   ],
   "source": [
    "output = {}\n",
    "with torch.no_grad():\n",
    "    for name, seq, tokens in tqdm(inputs):\n",
    "        o = model(**tokens, output_hidden_states=True, return_dict=True,)\n",
    "        softmax = torch.nn.Softmax(dim=1)\n",
    "        logits = softmax(o[\"logits\"]).to(device=\"cpu\").numpy()[0] #probabilities\n",
    "        mask_pos = seq.index(\"<mask>\")\n",
    "        name2 = f'{name}_pos{mask_pos}'\n",
    "        output[name2] = logits[mask_pos+1]"
   ]
  },
  {
   "cell_type": "code",
   "execution_count": 12,
   "id": "5bd37099-f2dc-402f-829d-a79ec340fe9f",
   "metadata": {
    "tags": []
   },
   "outputs": [],
   "source": [
    "output_df = pd.DataFrame.from_dict(output)\n",
    "output_df.to_csv(\"./TXG_mAbs_maskedprobs_BALM.csv\")"
   ]
  },
  {
   "cell_type": "markdown",
   "id": "a2d2138b-8fd0-4198-bb8e-693d0767036e",
   "metadata": {},
   "source": [
    "Compare Mutation Predictions to Germline Scores"
   ]
  },
  {
   "cell_type": "code",
   "execution_count": 32,
   "id": "da23302c-3773-4063-ace6-2af4d9d8058b",
   "metadata": {},
   "outputs": [
    {
     "data": {
      "text/html": [
       "<div>\n",
       "<style scoped>\n",
       "    .dataframe tbody tr th:only-of-type {\n",
       "        vertical-align: middle;\n",
       "    }\n",
       "\n",
       "    .dataframe tbody tr th {\n",
       "        vertical-align: top;\n",
       "    }\n",
       "\n",
       "    .dataframe thead th {\n",
       "        text-align: right;\n",
       "    }\n",
       "</style>\n",
       "<table border=\"1\" class=\"dataframe\">\n",
       "  <thead>\n",
       "    <tr style=\"text-align: right;\">\n",
       "      <th></th>\n",
       "      <th>&lt;s&gt;</th>\n",
       "      <th>&lt;/s&gt;</th>\n",
       "      <th>&lt;pad&gt;</th>\n",
       "      <th>&lt;unk&gt;</th>\n",
       "      <th>&lt;mask&gt;</th>\n",
       "      <th>A</th>\n",
       "      <th>C</th>\n",
       "      <th>D</th>\n",
       "      <th>E</th>\n",
       "      <th>F</th>\n",
       "      <th>...</th>\n",
       "      <th>N</th>\n",
       "      <th>P</th>\n",
       "      <th>Q</th>\n",
       "      <th>R</th>\n",
       "      <th>S</th>\n",
       "      <th>T</th>\n",
       "      <th>V</th>\n",
       "      <th>W</th>\n",
       "      <th>Y</th>\n",
       "      <th>max_prob_aas</th>\n",
       "    </tr>\n",
       "  </thead>\n",
       "  <tbody>\n",
       "    <tr>\n",
       "      <th>TXG-0001_pos0</th>\n",
       "      <td>0.000537</td>\n",
       "      <td>0.000090</td>\n",
       "      <td>0.000650</td>\n",
       "      <td>0.000326</td>\n",
       "      <td>0.001674</td>\n",
       "      <td>6.712171e-10</td>\n",
       "      <td>4.991637e-16</td>\n",
       "      <td>1.158105e-11</td>\n",
       "      <td>7.386458e-08</td>\n",
       "      <td>4.245692e-12</td>\n",
       "      <td>...</td>\n",
       "      <td>2.950762e-10</td>\n",
       "      <td>1.893537e-07</td>\n",
       "      <td>1.801331e-02</td>\n",
       "      <td>1.252880e-06</td>\n",
       "      <td>1.139298e-10</td>\n",
       "      <td>1.441798e-10</td>\n",
       "      <td>6.473079e-09</td>\n",
       "      <td>1.292268e-12</td>\n",
       "      <td>3.689247e-10</td>\n",
       "      <td>Q</td>\n",
       "    </tr>\n",
       "    <tr>\n",
       "      <th>TXG-0001_pos1</th>\n",
       "      <td>0.000639</td>\n",
       "      <td>0.000114</td>\n",
       "      <td>0.000845</td>\n",
       "      <td>0.000676</td>\n",
       "      <td>0.000499</td>\n",
       "      <td>9.738896e-06</td>\n",
       "      <td>9.418030e-15</td>\n",
       "      <td>5.186145e-10</td>\n",
       "      <td>1.659513e-05</td>\n",
       "      <td>1.576908e-09</td>\n",
       "      <td>...</td>\n",
       "      <td>1.614860e-10</td>\n",
       "      <td>4.455026e-09</td>\n",
       "      <td>4.809455e-10</td>\n",
       "      <td>5.650238e-10</td>\n",
       "      <td>1.477380e-10</td>\n",
       "      <td>3.649209e-09</td>\n",
       "      <td>4.525929e-02</td>\n",
       "      <td>3.678126e-12</td>\n",
       "      <td>3.777115e-11</td>\n",
       "      <td>V</td>\n",
       "    </tr>\n",
       "    <tr>\n",
       "      <th>TXG-0001_pos2</th>\n",
       "      <td>0.000522</td>\n",
       "      <td>0.000324</td>\n",
       "      <td>0.000489</td>\n",
       "      <td>0.000354</td>\n",
       "      <td>0.000884</td>\n",
       "      <td>8.813778e-10</td>\n",
       "      <td>2.201597e-15</td>\n",
       "      <td>1.762267e-10</td>\n",
       "      <td>1.580648e-07</td>\n",
       "      <td>1.601118e-11</td>\n",
       "      <td>...</td>\n",
       "      <td>2.591281e-09</td>\n",
       "      <td>6.180144e-08</td>\n",
       "      <td>2.800575e-04</td>\n",
       "      <td>8.414578e-08</td>\n",
       "      <td>2.852198e-10</td>\n",
       "      <td>1.557890e-10</td>\n",
       "      <td>3.811031e-09</td>\n",
       "      <td>1.883095e-12</td>\n",
       "      <td>3.328436e-09</td>\n",
       "      <td>&lt;mask&gt;</td>\n",
       "    </tr>\n",
       "    <tr>\n",
       "      <th>TXG-0001_pos3</th>\n",
       "      <td>0.002038</td>\n",
       "      <td>0.000266</td>\n",
       "      <td>0.001731</td>\n",
       "      <td>0.002107</td>\n",
       "      <td>0.002279</td>\n",
       "      <td>5.209519e-08</td>\n",
       "      <td>5.717766e-15</td>\n",
       "      <td>2.655331e-11</td>\n",
       "      <td>3.010905e-09</td>\n",
       "      <td>3.635894e-09</td>\n",
       "      <td>...</td>\n",
       "      <td>1.943725e-09</td>\n",
       "      <td>9.711414e-08</td>\n",
       "      <td>2.404738e-08</td>\n",
       "      <td>6.017458e-09</td>\n",
       "      <td>2.669460e-09</td>\n",
       "      <td>3.526159e-09</td>\n",
       "      <td>6.364827e-05</td>\n",
       "      <td>1.832541e-11</td>\n",
       "      <td>1.316293e-10</td>\n",
       "      <td>&lt;mask&gt;</td>\n",
       "    </tr>\n",
       "    <tr>\n",
       "      <th>TXG-0001_pos4</th>\n",
       "      <td>0.001183</td>\n",
       "      <td>0.000502</td>\n",
       "      <td>0.001328</td>\n",
       "      <td>0.001170</td>\n",
       "      <td>0.000808</td>\n",
       "      <td>5.389254e-06</td>\n",
       "      <td>3.751557e-15</td>\n",
       "      <td>1.608833e-10</td>\n",
       "      <td>6.926930e-06</td>\n",
       "      <td>3.513015e-10</td>\n",
       "      <td>...</td>\n",
       "      <td>7.081735e-11</td>\n",
       "      <td>2.015917e-09</td>\n",
       "      <td>4.360423e-10</td>\n",
       "      <td>4.123664e-10</td>\n",
       "      <td>1.460642e-10</td>\n",
       "      <td>2.483344e-09</td>\n",
       "      <td>7.729272e-02</td>\n",
       "      <td>1.291765e-11</td>\n",
       "      <td>3.321982e-11</td>\n",
       "      <td>V</td>\n",
       "    </tr>\n",
       "    <tr>\n",
       "      <th>...</th>\n",
       "      <td>...</td>\n",
       "      <td>...</td>\n",
       "      <td>...</td>\n",
       "      <td>...</td>\n",
       "      <td>...</td>\n",
       "      <td>...</td>\n",
       "      <td>...</td>\n",
       "      <td>...</td>\n",
       "      <td>...</td>\n",
       "      <td>...</td>\n",
       "      <td>...</td>\n",
       "      <td>...</td>\n",
       "      <td>...</td>\n",
       "      <td>...</td>\n",
       "      <td>...</td>\n",
       "      <td>...</td>\n",
       "      <td>...</td>\n",
       "      <td>...</td>\n",
       "      <td>...</td>\n",
       "      <td>...</td>\n",
       "      <td>...</td>\n",
       "    </tr>\n",
       "    <tr>\n",
       "      <th>TXG-0239_pos237</th>\n",
       "      <td>0.001718</td>\n",
       "      <td>0.000399</td>\n",
       "      <td>0.001758</td>\n",
       "      <td>0.001001</td>\n",
       "      <td>0.000497</td>\n",
       "      <td>1.742520e-09</td>\n",
       "      <td>2.227548e-13</td>\n",
       "      <td>3.580414e-13</td>\n",
       "      <td>9.805512e-09</td>\n",
       "      <td>1.601680e-11</td>\n",
       "      <td>...</td>\n",
       "      <td>2.695992e-06</td>\n",
       "      <td>3.435909e-10</td>\n",
       "      <td>1.637434e-09</td>\n",
       "      <td>2.537776e-06</td>\n",
       "      <td>1.220414e-09</td>\n",
       "      <td>1.994869e-09</td>\n",
       "      <td>2.787094e-09</td>\n",
       "      <td>6.018908e-12</td>\n",
       "      <td>3.388221e-09</td>\n",
       "      <td>&lt;pad&gt;</td>\n",
       "    </tr>\n",
       "    <tr>\n",
       "      <th>TXG-0239_pos238</th>\n",
       "      <td>0.009470</td>\n",
       "      <td>0.003074</td>\n",
       "      <td>0.004261</td>\n",
       "      <td>0.008495</td>\n",
       "      <td>0.008474</td>\n",
       "      <td>3.185831e-10</td>\n",
       "      <td>2.508774e-14</td>\n",
       "      <td>1.760521e-14</td>\n",
       "      <td>1.166252e-10</td>\n",
       "      <td>1.021620e-10</td>\n",
       "      <td>...</td>\n",
       "      <td>4.833691e-09</td>\n",
       "      <td>6.611445e-11</td>\n",
       "      <td>9.398131e-13</td>\n",
       "      <td>2.646390e-11</td>\n",
       "      <td>3.475650e-11</td>\n",
       "      <td>1.962583e-11</td>\n",
       "      <td>1.884103e-06</td>\n",
       "      <td>3.982638e-12</td>\n",
       "      <td>2.262775e-11</td>\n",
       "      <td>&lt;s&gt;</td>\n",
       "    </tr>\n",
       "    <tr>\n",
       "      <th>TXG-0239_pos239</th>\n",
       "      <td>0.002299</td>\n",
       "      <td>0.000053</td>\n",
       "      <td>0.003280</td>\n",
       "      <td>0.000717</td>\n",
       "      <td>0.000697</td>\n",
       "      <td>1.215524e-07</td>\n",
       "      <td>1.145997e-13</td>\n",
       "      <td>4.051752e-10</td>\n",
       "      <td>9.923290e-02</td>\n",
       "      <td>1.039535e-10</td>\n",
       "      <td>...</td>\n",
       "      <td>8.454901e-08</td>\n",
       "      <td>1.413235e-10</td>\n",
       "      <td>3.676097e-09</td>\n",
       "      <td>1.851649e-09</td>\n",
       "      <td>5.463743e-11</td>\n",
       "      <td>6.346846e-10</td>\n",
       "      <td>3.977817e-08</td>\n",
       "      <td>4.982131e-11</td>\n",
       "      <td>2.367515e-09</td>\n",
       "      <td>E</td>\n",
       "    </tr>\n",
       "    <tr>\n",
       "      <th>TXG-0239_pos240</th>\n",
       "      <td>0.002806</td>\n",
       "      <td>0.000020</td>\n",
       "      <td>0.001437</td>\n",
       "      <td>0.000612</td>\n",
       "      <td>0.000194</td>\n",
       "      <td>1.245993e-08</td>\n",
       "      <td>1.309502e-12</td>\n",
       "      <td>4.967889e-13</td>\n",
       "      <td>1.786975e-10</td>\n",
       "      <td>2.143679e-08</td>\n",
       "      <td>...</td>\n",
       "      <td>3.133481e-06</td>\n",
       "      <td>2.151430e-09</td>\n",
       "      <td>1.089380e-12</td>\n",
       "      <td>5.694285e-09</td>\n",
       "      <td>5.843372e-08</td>\n",
       "      <td>8.360015e-08</td>\n",
       "      <td>1.458314e-06</td>\n",
       "      <td>5.030363e-13</td>\n",
       "      <td>3.944383e-10</td>\n",
       "      <td>I</td>\n",
       "    </tr>\n",
       "    <tr>\n",
       "      <th>TXG-0239_pos241</th>\n",
       "      <td>0.002939</td>\n",
       "      <td>0.000587</td>\n",
       "      <td>0.002737</td>\n",
       "      <td>0.001877</td>\n",
       "      <td>0.001883</td>\n",
       "      <td>1.156909e-08</td>\n",
       "      <td>3.677482e-13</td>\n",
       "      <td>1.323686e-12</td>\n",
       "      <td>5.161071e-07</td>\n",
       "      <td>5.522176e-11</td>\n",
       "      <td>...</td>\n",
       "      <td>1.434216e-05</td>\n",
       "      <td>1.225325e-09</td>\n",
       "      <td>1.094594e-08</td>\n",
       "      <td>2.351158e-06</td>\n",
       "      <td>5.057714e-10</td>\n",
       "      <td>4.347705e-08</td>\n",
       "      <td>5.037199e-09</td>\n",
       "      <td>1.000545e-11</td>\n",
       "      <td>8.440298e-09</td>\n",
       "      <td>K</td>\n",
       "    </tr>\n",
       "  </tbody>\n",
       "</table>\n",
       "<p>57619 rows × 26 columns</p>\n",
       "</div>"
      ],
      "text/plain": [
       "                      <s>      </s>     <pad>     <unk>    <mask>  \\\n",
       "TXG-0001_pos0    0.000537  0.000090  0.000650  0.000326  0.001674   \n",
       "TXG-0001_pos1    0.000639  0.000114  0.000845  0.000676  0.000499   \n",
       "TXG-0001_pos2    0.000522  0.000324  0.000489  0.000354  0.000884   \n",
       "TXG-0001_pos3    0.002038  0.000266  0.001731  0.002107  0.002279   \n",
       "TXG-0001_pos4    0.001183  0.000502  0.001328  0.001170  0.000808   \n",
       "...                   ...       ...       ...       ...       ...   \n",
       "TXG-0239_pos237  0.001718  0.000399  0.001758  0.001001  0.000497   \n",
       "TXG-0239_pos238  0.009470  0.003074  0.004261  0.008495  0.008474   \n",
       "TXG-0239_pos239  0.002299  0.000053  0.003280  0.000717  0.000697   \n",
       "TXG-0239_pos240  0.002806  0.000020  0.001437  0.000612  0.000194   \n",
       "TXG-0239_pos241  0.002939  0.000587  0.002737  0.001877  0.001883   \n",
       "\n",
       "                            A             C             D             E  \\\n",
       "TXG-0001_pos0    6.712171e-10  4.991637e-16  1.158105e-11  7.386458e-08   \n",
       "TXG-0001_pos1    9.738896e-06  9.418030e-15  5.186145e-10  1.659513e-05   \n",
       "TXG-0001_pos2    8.813778e-10  2.201597e-15  1.762267e-10  1.580648e-07   \n",
       "TXG-0001_pos3    5.209519e-08  5.717766e-15  2.655331e-11  3.010905e-09   \n",
       "TXG-0001_pos4    5.389254e-06  3.751557e-15  1.608833e-10  6.926930e-06   \n",
       "...                       ...           ...           ...           ...   \n",
       "TXG-0239_pos237  1.742520e-09  2.227548e-13  3.580414e-13  9.805512e-09   \n",
       "TXG-0239_pos238  3.185831e-10  2.508774e-14  1.760521e-14  1.166252e-10   \n",
       "TXG-0239_pos239  1.215524e-07  1.145997e-13  4.051752e-10  9.923290e-02   \n",
       "TXG-0239_pos240  1.245993e-08  1.309502e-12  4.967889e-13  1.786975e-10   \n",
       "TXG-0239_pos241  1.156909e-08  3.677482e-13  1.323686e-12  5.161071e-07   \n",
       "\n",
       "                            F  ...             N             P             Q  \\\n",
       "TXG-0001_pos0    4.245692e-12  ...  2.950762e-10  1.893537e-07  1.801331e-02   \n",
       "TXG-0001_pos1    1.576908e-09  ...  1.614860e-10  4.455026e-09  4.809455e-10   \n",
       "TXG-0001_pos2    1.601118e-11  ...  2.591281e-09  6.180144e-08  2.800575e-04   \n",
       "TXG-0001_pos3    3.635894e-09  ...  1.943725e-09  9.711414e-08  2.404738e-08   \n",
       "TXG-0001_pos4    3.513015e-10  ...  7.081735e-11  2.015917e-09  4.360423e-10   \n",
       "...                       ...  ...           ...           ...           ...   \n",
       "TXG-0239_pos237  1.601680e-11  ...  2.695992e-06  3.435909e-10  1.637434e-09   \n",
       "TXG-0239_pos238  1.021620e-10  ...  4.833691e-09  6.611445e-11  9.398131e-13   \n",
       "TXG-0239_pos239  1.039535e-10  ...  8.454901e-08  1.413235e-10  3.676097e-09   \n",
       "TXG-0239_pos240  2.143679e-08  ...  3.133481e-06  2.151430e-09  1.089380e-12   \n",
       "TXG-0239_pos241  5.522176e-11  ...  1.434216e-05  1.225325e-09  1.094594e-08   \n",
       "\n",
       "                            R             S             T             V  \\\n",
       "TXG-0001_pos0    1.252880e-06  1.139298e-10  1.441798e-10  6.473079e-09   \n",
       "TXG-0001_pos1    5.650238e-10  1.477380e-10  3.649209e-09  4.525929e-02   \n",
       "TXG-0001_pos2    8.414578e-08  2.852198e-10  1.557890e-10  3.811031e-09   \n",
       "TXG-0001_pos3    6.017458e-09  2.669460e-09  3.526159e-09  6.364827e-05   \n",
       "TXG-0001_pos4    4.123664e-10  1.460642e-10  2.483344e-09  7.729272e-02   \n",
       "...                       ...           ...           ...           ...   \n",
       "TXG-0239_pos237  2.537776e-06  1.220414e-09  1.994869e-09  2.787094e-09   \n",
       "TXG-0239_pos238  2.646390e-11  3.475650e-11  1.962583e-11  1.884103e-06   \n",
       "TXG-0239_pos239  1.851649e-09  5.463743e-11  6.346846e-10  3.977817e-08   \n",
       "TXG-0239_pos240  5.694285e-09  5.843372e-08  8.360015e-08  1.458314e-06   \n",
       "TXG-0239_pos241  2.351158e-06  5.057714e-10  4.347705e-08  5.037199e-09   \n",
       "\n",
       "                            W             Y  max_prob_aas  \n",
       "TXG-0001_pos0    1.292268e-12  3.689247e-10             Q  \n",
       "TXG-0001_pos1    3.678126e-12  3.777115e-11             V  \n",
       "TXG-0001_pos2    1.883095e-12  3.328436e-09        <mask>  \n",
       "TXG-0001_pos3    1.832541e-11  1.316293e-10        <mask>  \n",
       "TXG-0001_pos4    1.291765e-11  3.321982e-11             V  \n",
       "...                       ...           ...           ...  \n",
       "TXG-0239_pos237  6.018908e-12  3.388221e-09         <pad>  \n",
       "TXG-0239_pos238  3.982638e-12  2.262775e-11           <s>  \n",
       "TXG-0239_pos239  4.982131e-11  2.367515e-09             E  \n",
       "TXG-0239_pos240  5.030363e-13  3.944383e-10             I  \n",
       "TXG-0239_pos241  1.000545e-11  8.440298e-09             K  \n",
       "\n",
       "[57619 rows x 26 columns]"
      ]
     },
     "execution_count": 32,
     "metadata": {},
     "output_type": "execute_result"
    }
   ],
   "source": [
    "#import balm scores\n",
    "output_df1 = pd.read_csv(\"./TXG_mAbs_maskedprobs_BALM.csv\")\n",
    "output_df1.index = output_df1.iloc[:, 0]\n",
    "output_df1 = output_df1.iloc[:, 1:]\n",
    "output_df1.index = list(vocab.keys())\n",
    "output_df1= output_df1.T\n",
    "max_prob_aas = output_df1.idxmax(axis=1)\n",
    "output_df1[\"max_prob_aas\"] = max_prob_aas\n",
    "output_df1"
   ]
  },
  {
   "cell_type": "code",
   "execution_count": 31,
   "id": "ef7aeda5-c578-4eac-a548-311d1fe968da",
   "metadata": {},
   "outputs": [],
   "source": [
    "#clean and prep sequences\n",
    "seqs = germ_aa_l\n",
    "for s in range(len(seqs)):\n",
    "    seqs[s] = re.sub(r'<cls><cls>', '__________', seqs[s])\n",
    "    seqs[s] = re.sub(r'-', '_', seqs[s])\n",
    "    seqs[s] = re.sub(r'\\*', '_', seqs[s])\n",
    "    seqs[s] = re.sub(r'X', '_', seqs[s])"
   ]
  },
  {
   "cell_type": "code",
   "execution_count": 27,
   "id": "5f0b0401-fbf8-4277-804d-13971b8aa2e9",
   "metadata": {},
   "outputs": [
    {
     "data": {
      "application/vnd.jupyter.widget-view+json": {
       "model_id": "decef3c1c2aa4f038d1a49718161ace0",
       "version_major": 2,
       "version_minor": 0
      },
      "text/plain": [
       "  0%|          | 0/57619 [00:00<?, ?it/s]"
      ]
     },
     "metadata": {},
     "output_type": "display_data"
    }
   ],
   "source": [
    "wt_dict = {}\n",
    "wt_prob_d = {}\n",
    "for row in tqdm(output_df1.index):\n",
    "    for i, s in list(zip(seq_names, seqs)):\n",
    "        for pos in range(len(s)):\n",
    "            if f\"{i}_pos{pos}\" == str(row):\n",
    "                wt = s[pos]\n",
    "                wt_dict[f\"{i}_pos{pos}\"] = wt\n",
    "                if (wt != '_'):\n",
    "                    wt_prob = output_df1.loc[row, wt]\n",
    "                else:\n",
    "                    wt_prob = '0'\n",
    "                wt_prob_d[f\"{i}_pos{pos}\"]= wt_prob"
   ]
  },
  {
   "cell_type": "code",
   "execution_count": 33,
   "id": "fcae06e9-2345-4246-abc1-7bc37f1ae051",
   "metadata": {},
   "outputs": [],
   "source": [
    "#merging and cleaning dataframes\n",
    "wt_df = pd.DataFrame.from_dict(wt_dict, orient='index', columns=['wt'])\n",
    "wt_df = wt_df.reset_index().rename(columns={'index': 'alias'})\n",
    "output_df1 = output_df1.reset_index().rename(columns={'index': 'alias'})\n",
    "output_df1 = pd.merge(output_df1, wt_df, on='alias', how='inner')\n",
    "wt_prob_df = pd.DataFrame.from_dict(wt_prob_d, orient='index', columns=['wt_prob'])\n",
    "wt_prob_df = wt_prob_df.reset_index().rename(columns={'index': 'alias'})\n",
    "output_df1 = pd.merge(output_df1, wt_prob_df, on='alias', how='inner')"
   ]
  },
  {
   "cell_type": "code",
   "execution_count": 36,
   "id": "df24e857-54fb-4c03-960e-20550328c076",
   "metadata": {},
   "outputs": [],
   "source": [
    "#creating final dataframe\n",
    "import math\n",
    "e = math.e\n",
    "max_probs = output_df1.max(axis=1).to_list()\n",
    "max_prob_aas = output_df1.max_prob_aas.to_list()\n",
    "mAbs_pos = output_df1.alias.to_list()\n",
    "wt_list = output_df1.wt.to_list()\n",
    "wt_prob_l = output_df1.wt_prob.to_list()\n",
    "df_max2wt = pd.DataFrame({'mAbs_pos' : mAbs_pos, 'wt' : wt_list,'max_prob_aa' : max_prob_aas, 'wt_prob': wt_prob_l, 'max_prob' : max_probs})\n",
    "df_max2wt = df_max2wt[df_max2wt['wt'] != '_']\n",
    "df_max2wt['max/wt_ratio'] = (df_max2wt['max_prob'] / df_max2wt['wt_prob'])\n",
    "df_max2wt.to_csv(\"./TXG_mAbs_BALM_maxmask2wt.csv\")"
   ]
  }
 ],
 "metadata": {
  "kernelspec": {
   "display_name": "Python 3 (ipykernel)",
   "language": "python",
   "name": "python3"
  },
  "language_info": {
   "codemirror_mode": {
    "name": "ipython",
    "version": 3
   },
   "file_extension": ".py",
   "mimetype": "text/x-python",
   "name": "python",
   "nbconvert_exporter": "python",
   "pygments_lexer": "ipython3",
   "version": "3.11.9"
  }
 },
 "nbformat": 4,
 "nbformat_minor": 5
}
